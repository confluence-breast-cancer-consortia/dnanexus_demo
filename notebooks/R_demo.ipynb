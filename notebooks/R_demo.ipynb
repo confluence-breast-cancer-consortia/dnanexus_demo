{
 "cells": [
  {
   "cell_type": "code",
   "execution_count": 1,
   "id": "c20d30de",
   "metadata": {},
   "outputs": [
    {
     "data": {
      "text/html": [
       "<style>\n",
       ".list-inline {list-style: none; margin:0; padding: 0}\n",
       ".list-inline>li {display: inline-block}\n",
       ".list-inline>li:not(:last-child)::after {content: \"\\00b7\"; padding: 0 .5ex}\n",
       "</style>\n",
       "<ol class=list-inline><li>'AMR.bed'</li><li>'AMR.bim'</li><li>'AMR.covar'</li><li>'AMR.fam'</li><li>'AMR.phen'</li></ol>\n"
      ],
      "text/latex": [
       "\\begin{enumerate*}\n",
       "\\item 'AMR.bed'\n",
       "\\item 'AMR.bim'\n",
       "\\item 'AMR.covar'\n",
       "\\item 'AMR.fam'\n",
       "\\item 'AMR.phen'\n",
       "\\end{enumerate*}\n"
      ],
      "text/markdown": [
       "1. 'AMR.bed'\n",
       "2. 'AMR.bim'\n",
       "3. 'AMR.covar'\n",
       "4. 'AMR.fam'\n",
       "5. 'AMR.phen'\n",
       "\n",
       "\n"
      ],
      "text/plain": [
       "[1] \"AMR.bed\"   \"AMR.bim\"   \"AMR.covar\" \"AMR.fam\"   \"AMR.phen\" "
      ]
     },
     "metadata": {},
     "output_type": "display_data"
    }
   ],
   "source": [
    "system(\"dx ls demo_data:Data/\", intern = TRUE)"
   ]
  },
  {
   "cell_type": "code",
   "execution_count": null,
   "id": "5f361df1",
   "metadata": {},
   "outputs": [],
   "source": []
  }
 ],
 "metadata": {
  "kernelspec": {
   "display_name": "R",
   "language": "R",
   "name": "ir"
  },
  "language_info": {
   "codemirror_mode": "r",
   "file_extension": ".r",
   "mimetype": "text/x-r-source",
   "name": "R",
   "pygments_lexer": "r",
   "version": "4.2.0"
  }
 },
 "nbformat": 4,
 "nbformat_minor": 5
}
