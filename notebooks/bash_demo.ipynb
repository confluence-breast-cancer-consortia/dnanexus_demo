{
 "cells": [
  {
   "cell_type": "markdown",
   "id": "9d57762c",
   "metadata": {},
   "source": [
    "## download plink2"
   ]
  },
  {
   "cell_type": "code",
   "execution_count": 1,
   "id": "9006418f",
   "metadata": {},
   "outputs": [
    {
     "name": "stdout",
     "output_type": "stream",
     "text": [
      "--2023-03-20 04:04:39--  https://s3.amazonaws.com/plink2-assets/alpha3/plink2_linux_x86_64_20221024.zip\n",
      "Resolving s3.amazonaws.com (s3.amazonaws.com)... 54.231.199.56, 52.217.107.134, 52.216.77.6, ...\n",
      "Connecting to s3.amazonaws.com (s3.amazonaws.com)|54.231.199.56|:443... connected.\n",
      "HTTP request sent, awaiting response... 200 OK\n",
      "Length: 9187009 (8.8M) [application/zip]\n",
      "Saving to: ‘plink2_linux_x86_64_20221024.zip’\n",
      "\n",
      "plink2_linux_x86_64 100%[===================>]   8.76M  11.8MB/s    in 0.7s    \n",
      "\n",
      "2023-03-20 04:04:40 (11.8 MB/s) - ‘plink2_linux_x86_64_20221024.zip’ saved [9187009/9187009]\n",
      "\n"
     ]
    }
   ],
   "source": [
    "wget https://s3.amazonaws.com/plink2-assets/alpha3/plink2_linux_x86_64_20221024.zip"
   ]
  },
  {
   "cell_type": "markdown",
   "id": "e98eed5a",
   "metadata": {},
   "source": [
    "## unzip the plink2 zip file"
   ]
  },
  {
   "cell_type": "code",
   "execution_count": 2,
   "id": "e8dd5fab",
   "metadata": {},
   "outputs": [
    {
     "name": "stdout",
     "output_type": "stream",
     "text": [
      "Archive:  plink2_linux_x86_64_20221024.zip\n",
      "  inflating: plink2                  \n"
     ]
    }
   ],
   "source": [
    "unzip plink2_linux_x86_64_20221024.zip"
   ]
  },
  {
   "cell_type": "markdown",
   "id": "5fd10265",
   "metadata": {},
   "source": [
    "## let's see what is in the Data folder in the *demo_data* project"
   ]
  },
  {
   "cell_type": "code",
   "execution_count": 3,
   "id": "532be8e4",
   "metadata": {},
   "outputs": [
    {
     "name": "stdout",
     "output_type": "stream",
     "text": [
      "AMR.bed\n",
      "AMR.bim\n",
      "AMR.covar\n",
      "AMR.fam\n",
      "AMR.phen\n"
     ]
    }
   ],
   "source": [
    "dx ls demo_data:Data/"
   ]
  },
  {
   "cell_type": "markdown",
   "id": "68096fce",
   "metadata": {},
   "source": [
    "## downloading the data to the VM that is running the jupyter notebook"
   ]
  },
  {
   "cell_type": "code",
   "execution_count": 4,
   "id": "d9d610c2",
   "metadata": {},
   "outputs": [
    {
     "name": "stdout",
     "output_type": "stream",
     "text": [
      "\u001b[2K[===========================================================>] Completed 277,289,176 of 277,289,176 bytes (100%) /opt/notebooks/Data/AMR.bimm\n",
      "\u001b[2K[===========================================================>] Completed 9,101 of 9,101 bytes (100%) /opt/notebooks/Data/AMR.phenn\n",
      "\u001b[2K[===========================================================>] Completed 849,827,574 of 849,827,574 bytes (100%) /opt/notebooks/Data/AMR.bedd\n",
      "\u001b[2K[===========================================================>] Completed 11,831 of 11,831 bytes (100%) /opt/notebooks/Data/AMR.covarr\n",
      "\u001b[2K[===========================================================>] Completed 8,675 of 8,675 bytes (100%) /opt/notebooks/Data/AMR.famm\n"
     ]
    }
   ],
   "source": [
    "dx download -r demo_data:/Data/"
   ]
  },
  {
   "cell_type": "code",
   "execution_count": 5,
   "id": "0de698a0",
   "metadata": {},
   "outputs": [],
   "source": [
    "mkdir results/"
   ]
  },
  {
   "cell_type": "markdown",
   "id": "8bf3ded5",
   "metadata": {},
   "source": [
    "run plink2"
   ]
  },
  {
   "cell_type": "code",
   "execution_count": 7,
   "id": "3ea8d2b6",
   "metadata": {},
   "outputs": [
    {
     "name": "stdout",
     "output_type": "stream",
     "text": [
      "PLINK v2.00a3.7LM 64-bit Intel (24 Oct 2022)   www.cog-genomics.org/plink/2.0/\n",
      "(C) 2005-2022 Shaun Purcell, Christopher Chang   GNU General Public License v3\n",
      "Logging to results/AMR_hwe.log.\n",
      "Options in effect:\n",
      "  --bfile Data/AMR\n",
      "  --hwe 1e-5\n",
      "  --make-bed\n",
      "  --out results/AMR_hwe\n",
      "\n",
      "Start time: Mon Mar 20 04:05:37 2023\n",
      "3692 MiB RAM detected; reserving 1846 MiB for main workspace.\n",
      "Using up to 2 compute threads.\n",
      "347 samples (0 females, 0 males, 347 ambiguous; 347 founders) loaded from\n",
      "Data/AMR.fam.\n",
      "9768133 variants loaded from Data/AMR.bim.\n",
      "Note: No phenotype data present.\n",
      "Calculating allele frequencies... 101112131415161718192021222324252627282930313233343536373839404142434445464748495051525354555657585960616263646566676869707172737475767778798081828384858687888990919293949596979899done.\n",
      "--hwe: 73378 variants removed due to Hardy-Weinberg exact test (founders only).\n",
      "9694755 variants remaining after main filters.\n",
      "Writing results/AMR_hwe.fam ... done.\n",
      "Writing results/AMR_hwe.bim ... done.\n",
      "Writing results/AMR_hwe.bed ... 101112131415161718192021222324252627282930313233343536373839404142434445464748495051525354555657585960616263646566676869707172737475767778798081828384858687888990919293949596979899done.\n",
      "End time: Mon Mar 20 04:05:57 2023\n"
     ]
    }
   ],
   "source": [
    "./plink2 --bfile Data/AMR --hwe 1e-5 --make-bed --out results/AMR_hwe"
   ]
  },
  {
   "cell_type": "code",
   "execution_count": 8,
   "id": "695e7569",
   "metadata": {},
   "outputs": [
    {
     "name": "stdout",
     "output_type": "stream",
     "text": [
      "AMR_hwe.bed  AMR_hwe.bim  AMR_hwe.fam  AMR_hwe.log\n"
     ]
    }
   ],
   "source": [
    "ls results/"
   ]
  },
  {
   "cell_type": "markdown",
   "id": "2030fa4b",
   "metadata": {},
   "source": [
    "## upload the the results back to the DNANexus project "
   ]
  },
  {
   "cell_type": "code",
   "execution_count": 9,
   "id": "477acfe7",
   "metadata": {},
   "outputs": [
    {
     "name": "stdout",
     "output_type": "stream",
     "text": [
      "[===========================================================>] Uploaded 834 of 834 bytes (100%) results/AMR_hwe.log\n",
      "[===========================================================>] Uploaded 8,675 of 8,675 bytes (100%) results/AMR_hwe.fam\n",
      "[===========================================================>] Uploaded 275,194,291 of 275,194,291 bytes (100%) results/AMR_hwe.bim\n",
      "[===========================================================>] Uploaded 843,443,688 of 843,443,688 bytes (100%) results/AMR_hwe.bed\n"
     ]
    }
   ],
   "source": [
    "dx upload -r results/ --path /results/filtered/"
   ]
  },
  {
   "cell_type": "markdown",
   "id": "ba25acac",
   "metadata": {},
   "source": [
    "### note that, alternatively, you can submit a job to DNANexus to run plink2, and have the results directly saved on the demo_analysis project: \n",
    "dx run app-swiss-army-knife -iin=demo_data:Data/AMR.bed -iin=demo_data:Data/AMR.bim -iin=demo_data:Data/AMR.fam   -icmd=\"plink2 --bfile AMR --hwe 1e-5 --make-bed --out AMR_hwe\" --destination demo_analysis:/results -y"
   ]
  }
 ],
 "metadata": {
  "kernelspec": {
   "display_name": "Bash",
   "language": "bash",
   "name": "bash"
  },
  "language_info": {
   "codemirror_mode": "shell",
   "file_extension": ".sh",
   "mimetype": "text/x-sh",
   "name": "bash"
  }
 },
 "nbformat": 4,
 "nbformat_minor": 5
}
